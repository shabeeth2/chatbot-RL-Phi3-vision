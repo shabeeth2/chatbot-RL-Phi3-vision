{
  "nbformat": 4,
  "nbformat_minor": 0,
  "metadata": {
    "colab": {
      "provenance": [],
      "gpuType": "T4",
      "authorship_tag": "ABX9TyOsuTCAsb2jElBDrohK38on",
      "include_colab_link": true
    },
    "kernelspec": {
      "name": "python3",
      "display_name": "Python 3"
    },
    "language_info": {
      "name": "python"
    },
    "accelerator": "GPU",
    "widgets": {
      "application/vnd.jupyter.widget-state+json": {
        "29c5a521c03f4b8881b9558a55a40012": {
          "model_module": "@jupyter-widgets/controls",
          "model_name": "HBoxModel",
          "model_module_version": "1.5.0",
          "state": {
            "_dom_classes": [],
            "_model_module": "@jupyter-widgets/controls",
            "_model_module_version": "1.5.0",
            "_model_name": "HBoxModel",
            "_view_count": null,
            "_view_module": "@jupyter-widgets/controls",
            "_view_module_version": "1.5.0",
            "_view_name": "HBoxView",
            "box_style": "",
            "children": [
              "IPY_MODEL_a1218502523b46e8994d9fff55a815ef",
              "IPY_MODEL_67ad2ab2c2d94e129b6f76f75ef2394d",
              "IPY_MODEL_2283d7a5154443589ae2bd915c61bc44"
            ],
            "layout": "IPY_MODEL_fa908b96be4b4e6e91e9da1a244c067c"
          }
        },
        "a1218502523b46e8994d9fff55a815ef": {
          "model_module": "@jupyter-widgets/controls",
          "model_name": "HTMLModel",
          "model_module_version": "1.5.0",
          "state": {
            "_dom_classes": [],
            "_model_module": "@jupyter-widgets/controls",
            "_model_module_version": "1.5.0",
            "_model_name": "HTMLModel",
            "_view_count": null,
            "_view_module": "@jupyter-widgets/controls",
            "_view_module_version": "1.5.0",
            "_view_name": "HTMLView",
            "description": "",
            "description_tooltip": null,
            "layout": "IPY_MODEL_cdcd962658dc4462a757feda811cb241",
            "placeholder": "​",
            "style": "IPY_MODEL_a2350f45e35041a1b08565d3a2c8979c",
            "value": "Loading checkpoint shards: 100%"
          }
        },
        "67ad2ab2c2d94e129b6f76f75ef2394d": {
          "model_module": "@jupyter-widgets/controls",
          "model_name": "FloatProgressModel",
          "model_module_version": "1.5.0",
          "state": {
            "_dom_classes": [],
            "_model_module": "@jupyter-widgets/controls",
            "_model_module_version": "1.5.0",
            "_model_name": "FloatProgressModel",
            "_view_count": null,
            "_view_module": "@jupyter-widgets/controls",
            "_view_module_version": "1.5.0",
            "_view_name": "ProgressView",
            "bar_style": "success",
            "description": "",
            "description_tooltip": null,
            "layout": "IPY_MODEL_db5f5daf9e6d4fff8ef5f25c4f844010",
            "max": 2,
            "min": 0,
            "orientation": "horizontal",
            "style": "IPY_MODEL_c21e5ed846704eba81989b82f224b06c",
            "value": 1
          }
        },
        "2283d7a5154443589ae2bd915c61bc44": {
          "model_module": "@jupyter-widgets/controls",
          "model_name": "HTMLModel",
          "model_module_version": "1.5.0",
          "state": {
            "_dom_classes": [],
            "_model_module": "@jupyter-widgets/controls",
            "_model_module_version": "1.5.0",
            "_model_name": "HTMLModel",
            "_view_count": null,
            "_view_module": "@jupyter-widgets/controls",
            "_view_module_version": "1.5.0",
            "_view_name": "HTMLView",
            "description": "",
            "description_tooltip": null,
            "layout": "IPY_MODEL_ea01f6dd26714ec5a2044f120a154fbe",
            "placeholder": "​",
            "style": "IPY_MODEL_9b3574ec1e2e489da86a157f703589b4",
            "value": " 2/2 [00:37&lt;00:00, 18.10s/it]"
          }
        },
        "fa908b96be4b4e6e91e9da1a244c067c": {
          "model_module": "@jupyter-widgets/base",
          "model_name": "LayoutModel",
          "model_module_version": "1.2.0",
          "state": {
            "_model_module": "@jupyter-widgets/base",
            "_model_module_version": "1.2.0",
            "_model_name": "LayoutModel",
            "_view_count": null,
            "_view_module": "@jupyter-widgets/base",
            "_view_module_version": "1.2.0",
            "_view_name": "LayoutView",
            "align_content": null,
            "align_items": null,
            "align_self": null,
            "border": null,
            "bottom": null,
            "display": null,
            "flex": null,
            "flex_flow": null,
            "grid_area": null,
            "grid_auto_columns": null,
            "grid_auto_flow": null,
            "grid_auto_rows": null,
            "grid_column": null,
            "grid_gap": null,
            "grid_row": null,
            "grid_template_areas": null,
            "grid_template_columns": null,
            "grid_template_rows": null,
            "height": null,
            "justify_content": null,
            "justify_items": null,
            "left": null,
            "margin": null,
            "max_height": null,
            "max_width": null,
            "min_height": null,
            "min_width": null,
            "object_fit": null,
            "object_position": null,
            "order": null,
            "overflow": null,
            "overflow_x": null,
            "overflow_y": null,
            "padding": null,
            "right": null,
            "top": null,
            "visibility": null,
            "width": null
          }
        },
        "cdcd962658dc4462a757feda811cb241": {
          "model_module": "@jupyter-widgets/base",
          "model_name": "LayoutModel",
          "model_module_version": "1.2.0",
          "state": {
            "_model_module": "@jupyter-widgets/base",
            "_model_module_version": "1.2.0",
            "_model_name": "LayoutModel",
            "_view_count": null,
            "_view_module": "@jupyter-widgets/base",
            "_view_module_version": "1.2.0",
            "_view_name": "LayoutView",
            "align_content": null,
            "align_items": null,
            "align_self": null,
            "border": null,
            "bottom": null,
            "display": null,
            "flex": null,
            "flex_flow": null,
            "grid_area": null,
            "grid_auto_columns": null,
            "grid_auto_flow": null,
            "grid_auto_rows": null,
            "grid_column": null,
            "grid_gap": null,
            "grid_row": null,
            "grid_template_areas": null,
            "grid_template_columns": null,
            "grid_template_rows": null,
            "height": null,
            "justify_content": null,
            "justify_items": null,
            "left": null,
            "margin": null,
            "max_height": null,
            "max_width": null,
            "min_height": null,
            "min_width": null,
            "object_fit": null,
            "object_position": null,
            "order": null,
            "overflow": null,
            "overflow_x": null,
            "overflow_y": null,
            "padding": null,
            "right": null,
            "top": null,
            "visibility": null,
            "width": null
          }
        },
        "a2350f45e35041a1b08565d3a2c8979c": {
          "model_module": "@jupyter-widgets/controls",
          "model_name": "DescriptionStyleModel",
          "model_module_version": "1.5.0",
          "state": {
            "_model_module": "@jupyter-widgets/controls",
            "_model_module_version": "1.5.0",
            "_model_name": "DescriptionStyleModel",
            "_view_count": null,
            "_view_module": "@jupyter-widgets/base",
            "_view_module_version": "1.2.0",
            "_view_name": "StyleView",
            "description_width": ""
          }
        },
        "db5f5daf9e6d4fff8ef5f25c4f844010": {
          "model_module": "@jupyter-widgets/base",
          "model_name": "LayoutModel",
          "model_module_version": "1.2.0",
          "state": {
            "_model_module": "@jupyter-widgets/base",
            "_model_module_version": "1.2.0",
            "_model_name": "LayoutModel",
            "_view_count": null,
            "_view_module": "@jupyter-widgets/base",
            "_view_module_version": "1.2.0",
            "_view_name": "LayoutView",
            "align_content": null,
            "align_items": null,
            "align_self": null,
            "border": null,
            "bottom": null,
            "display": null,
            "flex": null,
            "flex_flow": null,
            "grid_area": null,
            "grid_auto_columns": null,
            "grid_auto_flow": null,
            "grid_auto_rows": null,
            "grid_column": null,
            "grid_gap": null,
            "grid_row": null,
            "grid_template_areas": null,
            "grid_template_columns": null,
            "grid_template_rows": null,
            "height": null,
            "justify_content": null,
            "justify_items": null,
            "left": null,
            "margin": null,
            "max_height": null,
            "max_width": null,
            "min_height": null,
            "min_width": null,
            "object_fit": null,
            "object_position": null,
            "order": null,
            "overflow": null,
            "overflow_x": null,
            "overflow_y": null,
            "padding": null,
            "right": null,
            "top": null,
            "visibility": null,
            "width": null
          }
        },
        "c21e5ed846704eba81989b82f224b06c": {
          "model_module": "@jupyter-widgets/controls",
          "model_name": "ProgressStyleModel",
          "model_module_version": "1.5.0",
          "state": {
            "_model_module": "@jupyter-widgets/controls",
            "_model_module_version": "1.5.0",
            "_model_name": "ProgressStyleModel",
            "_view_count": null,
            "_view_module": "@jupyter-widgets/base",
            "_view_module_version": "1.2.0",
            "_view_name": "StyleView",
            "bar_color": null,
            "description_width": ""
          }
        },
        "ea01f6dd26714ec5a2044f120a154fbe": {
          "model_module": "@jupyter-widgets/base",
          "model_name": "LayoutModel",
          "model_module_version": "1.2.0",
          "state": {
            "_model_module": "@jupyter-widgets/base",
            "_model_module_version": "1.2.0",
            "_model_name": "LayoutModel",
            "_view_count": null,
            "_view_module": "@jupyter-widgets/base",
            "_view_module_version": "1.2.0",
            "_view_name": "LayoutView",
            "align_content": null,
            "align_items": null,
            "align_self": null,
            "border": null,
            "bottom": null,
            "display": null,
            "flex": null,
            "flex_flow": null,
            "grid_area": null,
            "grid_auto_columns": null,
            "grid_auto_flow": null,
            "grid_auto_rows": null,
            "grid_column": null,
            "grid_gap": null,
            "grid_row": null,
            "grid_template_areas": null,
            "grid_template_columns": null,
            "grid_template_rows": null,
            "height": null,
            "justify_content": null,
            "justify_items": null,
            "left": null,
            "margin": null,
            "max_height": null,
            "max_width": null,
            "min_height": null,
            "min_width": null,
            "object_fit": null,
            "object_position": null,
            "order": null,
            "overflow": null,
            "overflow_x": null,
            "overflow_y": null,
            "padding": null,
            "right": null,
            "top": null,
            "visibility": null,
            "width": null
          }
        },
        "9b3574ec1e2e489da86a157f703589b4": {
          "model_module": "@jupyter-widgets/controls",
          "model_name": "DescriptionStyleModel",
          "model_module_version": "1.5.0",
          "state": {
            "_model_module": "@jupyter-widgets/controls",
            "_model_module_version": "1.5.0",
            "_model_name": "DescriptionStyleModel",
            "_view_count": null,
            "_view_module": "@jupyter-widgets/base",
            "_view_module_version": "1.2.0",
            "_view_name": "StyleView",
            "description_width": ""
          }
        }
      }
    }
  },
  "cells": [
    {
      "cell_type": "markdown",
      "metadata": {
        "id": "view-in-github",
        "colab_type": "text"
      },
      "source": [
        "<a href=\"https://colab.research.google.com/github/shabeeth2/chatbot-RL-Phi3-vision/blob/main/Phi_3_vision.ipynb\" target=\"_parent\"><img src=\"https://colab.research.google.com/assets/colab-badge.svg\" alt=\"Open In Colab\"/></a>"
      ]
    },
    {
      "cell_type": "code",
      "source": [
        "#@title Requirements\n",
        "\n",
        "requirements_content = \"\"\"accelerate==0.30.1\n",
        "flash_attn==2.5.8\n",
        "numpy==1.24.4\n",
        "Pillow==10.1.0\n",
        "Requests==2.31.0\n",
        "transformers==4.40.2\n",
        "gradio==4.29.0\n",
        "pydub==0.25.1\n",
        "edge-tts\n",
        "# gradio==4.15.0\n",
        "# Pillow==10.3.0\n",
        "# torch==2.3.0\n",
        "# torchvision==0.18.0\n",
        "\"\"\""
      ],
      "metadata": {
        "cellView": "form",
        "id": "RQTSKW0nVHXi"
      },
      "execution_count": 2,
      "outputs": []
    },
    {
      "cell_type": "code",
      "source": [
        "#@title Install\n",
        "import os\n",
        "root_path=os.getcwd()\n",
        "# root_path=\"/content\"\n",
        "base_path=f\"{root_path}\"\n",
        "\n",
        "with open(f\"{base_path}/requirements.txt\", \"w\") as file:\n",
        "    file.write(requirements_content)\n",
        "\n",
        "print(f\"File '{base_path}/requirements.txt' has been successfully created with the specified contents.\")\n",
        "\n",
        "!pip install -r $base_path/requirements.txt\n",
        "from IPython.display import clear_output\n",
        "clear_output()\n",
        "import time\n",
        "time.sleep(6)"
      ],
      "metadata": {
        "id": "0Z8Gyk4-Uzvl"
      },
      "execution_count": 3,
      "outputs": []
    },
    {
      "cell_type": "code",
      "source": [
        "#@ kill and cancel the restart\n",
        "import os\n",
        "os.kill(os.getpid(), 9)"
      ],
      "metadata": {
        "id": "KPU9fUdIUyvl"
      },
      "execution_count": null,
      "outputs": []
    },
    {
      "cell_type": "code",
      "source": [
        "#@title <-- Play the audio { display-mode: \"form\" }\n",
        "\n",
        "%%html\n",
        "<b>Press play on the music player to keep the tab alive, then run the cell below</b><br/>\n",
        "<audio src=\"https://raw.githubusercontent.com/KoboldAI/KoboldAI-Client/main/colab/silence.m4a\" controls>"
      ],
      "metadata": {
        "colab": {
          "base_uri": "https://localhost:8080/",
          "height": 92
        },
        "id": "JrR8CExTWLNB",
        "outputId": "39a37745-e327-413c-d8aa-46c4004a4b5d"
      },
      "execution_count": 1,
      "outputs": [
        {
          "output_type": "display_data",
          "data": {
            "text/plain": [
              "<IPython.core.display.HTML object>"
            ],
            "text/html": [
              "<b>Press play on the music player to keep the tab alive, then run the cell below</b><br/>\n",
              "<audio src=\"https://raw.githubusercontent.com/KoboldAI/KoboldAI-Client/main/colab/silence.m4a\" controls>\n"
            ]
          },
          "metadata": {}
        }
      ]
    },
    {
      "cell_type": "code",
      "source": [
        "#@title Download /microsoft/Phi-3-vision-128k-instruct\n",
        "from tqdm import tqdm\n",
        "import urllib\n",
        "import os\n",
        "import shutil\n",
        "def conditional_download(url, download_file_path):\n",
        "    print(f\"Downloading {os.path.basename(download_file_path)}\")\n",
        "    base_path = os.path.dirname(download_file_path)\n",
        "\n",
        "    if not os.path.exists(base_path):\n",
        "        os.makedirs(base_path)\n",
        "\n",
        "    if os.path.exists(download_file_path):\n",
        "        os.remove(download_file_path)\n",
        "\n",
        "    try:\n",
        "        request = urllib.request.urlopen(url)  # type: ignore[attr-defined]\n",
        "        total = int(request.headers.get('Content-Length', 0))\n",
        "    except urllib.error.URLError as e:\n",
        "        print(f\"Error: Unable to open the URL - {url}\")\n",
        "        print(f\"Reason: {e.reason}\")\n",
        "        return\n",
        "\n",
        "    with tqdm(total=total, desc='Downloading', unit='B', unit_scale=True, unit_divisor=1024) as progress:\n",
        "        try:\n",
        "            urllib.request.urlretrieve(url, download_file_path, reporthook=lambda count, block_size, total_size: progress.update(block_size))  # type: ignore[attr-defined]\n",
        "        except urllib.error.URLError as e:\n",
        "            print(f\"Error: Failed to download the file from the URL - {url}\")\n",
        "            print(f\"Reason: {e.reason}\")\n",
        "            return\n",
        "\n",
        "    print(f\"Download successful!\")\n",
        "    print(f\"URL: {url}\")\n",
        "    print(f\"Save at: {download_file_path}\")\n",
        "\n",
        "\n",
        "#set up base_path\n",
        "import os\n",
        "root_path=os.getcwd()\n",
        "# root_path=\"/content\"\n",
        "base_path=f\"{root_path}\"\n",
        "\n",
        "\n",
        "\n",
        "download_dir=f\"{base_path}/microsoft/Phi-3-vision-128k-instruct\"\n",
        "if not os.path.exists(download_dir):\n",
        "    os.makedirs(download_dir)\n",
        "download_list = [\n",
        "    \"config.json\",\n",
        "    \"configuration_phi3_v.py\",\n",
        "    \"image_embedding_phi3_v.py\",\n",
        "    \"image_processing_phi3_v.py\",\n",
        "    \"model.safetensors.index.json\",\n",
        "    \"modeling_phi3_v.py\",\n",
        "    \"preprocessor_config.json\",\n",
        "    \"processing_phi3_v.py\",\n",
        "    \"sample_inference.py\",\n",
        "    \"special_tokens_map.json\",\n",
        "    \"tokenizer.json\",\n",
        "    \"tokenizer_config.json\",\n",
        "    \"model-00001-of-00002.safetensors\",\n",
        "    \"model-00002-of-00002.safetensors\"\n",
        "]\n",
        "base_url=\"https://huggingface.co/microsoft/Phi-3-vision-128k-instruct/resolve/main\"\n",
        "fix_url=\"https://raw.githubusercontent.com/neuralfalcon/Phi-3-vision-128k-instruct-colab/main/\"\n",
        "for i in download_list:\n",
        "  if i==\"config.json\" or i==\"modeling_phi3_v.py\":\n",
        "    file_url=f\"{fix_url}/{i}\"\n",
        "  else:\n",
        "    file_url=f\"{base_url}/{i}\"\n",
        "  download_file_path=f\"{download_dir}/{i}\"\n",
        "  conditional_download(file_url, download_file_path)\n",
        "from IPython.display import clear_output\n",
        "clear_output()"
      ],
      "metadata": {
        "id": "oGcvgHA-WdhT"
      },
      "execution_count": 1,
      "outputs": []
    },
    {
      "cell_type": "code",
      "source": [
        "#@title import /microsoft/Phi-3-vision-128k-instruct\n",
        "import os\n",
        "root_path=os.getcwd()\n",
        "# root_path=\"/content\"\n",
        "base_path=f\"{root_path}\"\n",
        "from PIL import Image\n",
        "import requests\n",
        "from transformers import AutoModelForCausalLM\n",
        "from transformers import AutoProcessor\n",
        "import os\n",
        "model_id = f\"{base_path}/microsoft/Phi-3-vision-128k-instruct\"\n",
        "model = AutoModelForCausalLM.from_pretrained(model_id, device_map=\"cuda\", trust_remote_code=True, torch_dtype=\"auto\", _attn_implementation=\"eager\")\n",
        "processor = AutoProcessor.from_pretrained(model_id, trust_remote_code=True)"
      ],
      "metadata": {
        "colab": {
          "base_uri": "https://localhost:8080/",
          "height": 66,
          "referenced_widgets": [
            "29c5a521c03f4b8881b9558a55a40012",
            "a1218502523b46e8994d9fff55a815ef",
            "67ad2ab2c2d94e129b6f76f75ef2394d",
            "2283d7a5154443589ae2bd915c61bc44",
            "fa908b96be4b4e6e91e9da1a244c067c",
            "cdcd962658dc4462a757feda811cb241",
            "a2350f45e35041a1b08565d3a2c8979c",
            "db5f5daf9e6d4fff8ef5f25c4f844010",
            "c21e5ed846704eba81989b82f224b06c",
            "ea01f6dd26714ec5a2044f120a154fbe",
            "9b3574ec1e2e489da86a157f703589b4"
          ]
        },
        "id": "W7hvyYC3ZLcA",
        "outputId": "71a21c74-604c-45c9-e9a3-1298f05e18a7"
      },
      "execution_count": 2,
      "outputs": [
        {
          "output_type": "display_data",
          "data": {
            "text/plain": [
              "Loading checkpoint shards:   0%|          | 0/2 [00:00<?, ?it/s]"
            ],
            "application/vnd.jupyter.widget-view+json": {
              "version_major": 2,
              "version_minor": 0,
              "model_id": "29c5a521c03f4b8881b9558a55a40012"
            }
          },
          "metadata": {}
        },
        {
          "output_type": "stream",
          "name": "stderr",
          "text": [
            "Special tokens have been added in the vocabulary, make sure the associated word embeddings are fine-tuned or trained.\n"
          ]
        }
      ]
    },
    {
      "cell_type": "code",
      "source": [
        "#@title Main code\n",
        "temp_image=\"https://www.google.com/imgres?q=cat&imgurl=https%3A%2F%2Fcdn.britannica.com%2F34%2F235834-050-C5843610%2Ftwo-different-breeds-of-cats-side-by-side-outdoors-in-the-garden.jpg&imgrefurl=https%3A%2F%2Fwww.britannica.com%2Fanimal%2Fcat&docid=Bvzzy2OOLWm60M&tbnid=ryYDG4V7pxKPVM&vet=12ahUKEwj05Ymo6t-GAxUsyzgGHSe9DXIQM3oECBgQAA..i&w=1600&h=1054&hcb=2&ved=2ahUKEwj05Ymo6t-GAxUsyzgGHSe9DXIQM3oECBgQAA\"\n",
        "def ask_question(question=\"What is shown in this image?\",user_image=\"\"):\n",
        "  global temp_image\n",
        "  if os.path.exists(user_image):\n",
        "    image = Image.open(user_image)\n",
        "    temp_image=user_image\n",
        "  elif os.path.exists(temp_image):\n",
        "    image = Image.open(temp_image)\n",
        "  else:\n",
        "    return \"Please upload a image\"\n",
        "\n",
        "  messages = [\n",
        "      {\"role\": \"user\", \"content\": f\"<|image_1|>\\n{question}\"},\n",
        "      # {\"role\": \"assistant\", \"content\": \"The chart displays the percentage of respondents who agree with various statements about their preparedness for meetings. It shows five categories: 'Having clear and pre-defined goals for meetings', 'Knowing where to find the information I need for a meeting', 'Understanding my exact role and responsibilities when I'm invited', 'Having tools to manage admin tasks like note-taking or summarization', and 'Having more focus time to sufficiently prepare for meetings'. Each category has an associated bar indicating the level of agreement, measured on a scale from 0% to 100%.\"},\n",
        "      # {\"role\": \"user\", \"content\": \"Provide insightful questions to spark discussion.\"}\n",
        "  ]\n",
        "\n",
        "  # url = \"https://assets-c4akfrf5b4d3f4b7.z01.azurefd.net/assets/2024/04/BMDataViz_661fb89f3845e.png\"\n",
        "  # image = Image.open(requests.get(url, stream=True).raw)\n",
        "\n",
        "\n",
        "  prompt = processor.tokenizer.apply_chat_template(messages, tokenize=False, add_generation_prompt=True)\n",
        "\n",
        "  inputs = processor(prompt, [image], return_tensors=\"pt\").to(\"cuda:0\")\n",
        "\n",
        "  generation_args = {\n",
        "      \"max_new_tokens\": 500,\n",
        "      \"temperature\": 0.0,\n",
        "      \"do_sample\": False,\n",
        "  }\n",
        "\n",
        "  generate_ids = model.generate(**inputs, eos_token_id=processor.tokenizer.eos_token_id, **generation_args)\n",
        "\n",
        "  # remove input tokens\n",
        "  generate_ids = generate_ids[:, inputs['input_ids'].shape[1]:]\n",
        "  response = processor.batch_decode(generate_ids, skip_special_tokens=True, clean_up_tokenization_spaces=False)[0]\n",
        "\n",
        "  # print(response)\n",
        "  return response.strip()\n"
      ],
      "metadata": {
        "id": "RJG-xH0eZML_"
      },
      "execution_count": 6,
      "outputs": []
    },
    {
      "cell_type": "code",
      "source": [
        "question = 'what is the color of the cat?'  # @param {type: \"string\"}\n",
        "user_image = '/content/image_cat.jpeg'  # @param {type: \"string\"}\n",
        "answer=ask_question(question,user_image)\n",
        "answer"
      ],
      "metadata": {
        "id": "g79dmToObMto",
        "outputId": "1d881222-640e-42ff-8d9c-fd157e471382",
        "colab": {
          "base_uri": "https://localhost:8080/",
          "height": 107
        }
      },
      "execution_count": 16,
      "outputs": [
        {
          "output_type": "stream",
          "name": "stderr",
          "text": [
            "/usr/local/lib/python3.10/dist-packages/transformers/generation/configuration_utils.py:492: UserWarning: `do_sample` is set to `False`. However, `temperature` is set to `0.0` -- this flag is only used in sample-based generation modes. You should set `do_sample=True` or unset `temperature`.\n",
            "  warnings.warn(\n",
            "WARNING:transformers_modules.Phi-3-vision-128k-instruct.modeling_phi3_v:You are not running the flash-attention implementation, expect numerical differences.\n"
          ]
        },
        {
          "output_type": "execute_result",
          "data": {
            "text/plain": [
              "'The cat has a striped pattern with shades of brown, black, and white.'"
            ],
            "application/vnd.google.colaboratory.intrinsic+json": {
              "type": "string"
            }
          },
          "metadata": {},
          "execution_count": 16
        }
      ]
    },
    {
      "cell_type": "code",
      "source": [
        "#@title Use as gradio chatbot\n",
        "import gradio as gr\n",
        "import time\n",
        "\n",
        "def add_message(history, message):\n",
        "    if \"files\" in message and message[\"files\"]:\n",
        "        for file in message[\"files\"]:\n",
        "            history.append(((file,), None))\n",
        "    if \"text\" in message and message[\"text\"] is not None:\n",
        "        history.append((message[\"text\"], None))\n",
        "    return history, gr.update(value=None, interactive=True)\n",
        "\n",
        "def bot(history):\n",
        "    # response = \"**That's cool!**\"\n",
        "\n",
        "    # Extract the last file path and last message\n",
        "    last_file_path = None\n",
        "    last_message = None\n",
        "    for entry in reversed(history):\n",
        "        if last_file_path is None and isinstance(entry[0], tuple):\n",
        "            last_file_path = entry[0][0]\n",
        "        if last_message is None and isinstance(entry[0], str):\n",
        "            last_message = entry[0]\n",
        "        if last_file_path and last_message:\n",
        "            break\n",
        "\n",
        "    if last_file_path:\n",
        "        print(\"Last file path:\", last_file_path)\n",
        "        user_image=last_file_path\n",
        "    else:\n",
        "        user_image=\"\"\n",
        "    if last_message:\n",
        "        print(\"Last message:\", last_message)\n",
        "        question=last_message\n",
        "    else:\n",
        "        question=\"What is shown in this image?\"\n",
        "\n",
        "    response=ask_question(question,user_image)\n",
        "    history.append((\"\", \"\"))\n",
        "    for character in response:\n",
        "        history[-1] = (history[-1][0], history[-1][1] + character)\n",
        "        time.sleep(0.05)\n",
        "        yield history\n",
        "\n",
        "with gr.Blocks() as demo:\n",
        "    chatbot = gr.Chatbot(\n",
        "        [],\n",
        "        elem_id=\"chatbot\",\n",
        "        bubble_full_width=False\n",
        "    )\n",
        "\n",
        "    chat_input = gr.MultimodalTextbox(\n",
        "        interactive=True, file_types=[\"image\"], placeholder=\"Enter message or upload file...\", show_label=False\n",
        "    )\n",
        "\n",
        "    chat_msg = chat_input.submit(add_message, [chatbot, chat_input], [chatbot, chat_input])\n",
        "    bot_msg = chat_msg.then(bot, chatbot, chatbot, api_name=\"bot_response\")\n",
        "    bot_msg.then(lambda: gr.update(interactive=True), None, [chat_input])\n",
        "\n",
        "demo.queue()\n",
        "demo.launch(debug=False)\n"
      ],
      "metadata": {
        "id": "syyTXnCibXIx",
        "outputId": "7da8ba72-a7e8-4a56-f567-66a592eebb8a",
        "colab": {
          "base_uri": "https://localhost:8080/",
          "height": 645
        }
      },
      "execution_count": 17,
      "outputs": [
        {
          "output_type": "stream",
          "name": "stdout",
          "text": [
            "Setting queue=True in a Colab notebook requires sharing enabled. Setting `share=True` (you can turn this off by setting `share=False` in `launch()` explicitly).\n",
            "\n",
            "Colab notebook detected. To show errors in colab notebook, set debug=True in launch()\n",
            "Running on public URL: https://345c4ccdab91a90599.gradio.live\n",
            "\n",
            "This share link expires in 72 hours. For free permanent hosting and GPU upgrades, run `gradio deploy` from Terminal to deploy to Spaces (https://huggingface.co/spaces)\n"
          ]
        },
        {
          "output_type": "display_data",
          "data": {
            "text/plain": [
              "<IPython.core.display.HTML object>"
            ],
            "text/html": [
              "<div><iframe src=\"https://345c4ccdab91a90599.gradio.live\" width=\"100%\" height=\"500\" allow=\"autoplay; camera; microphone; clipboard-read; clipboard-write;\" frameborder=\"0\" allowfullscreen></iframe></div>"
            ]
          },
          "metadata": {}
        },
        {
          "output_type": "execute_result",
          "data": {
            "text/plain": []
          },
          "metadata": {},
          "execution_count": 17
        }
      ]
    },
    {
      "cell_type": "code",
      "source": [],
      "metadata": {
        "id": "QHYFjKXwdRVM"
      },
      "execution_count": null,
      "outputs": []
    }
  ]
}